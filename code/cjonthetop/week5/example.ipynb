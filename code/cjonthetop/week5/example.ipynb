{
 "cells": [
  {
   "cell_type": "markdown",
   "id": "39ecc0b2",
   "metadata": {},
   "source": [
    "# 통계 세션 과제!"
   ]
  },
  {
   "cell_type": "markdown",
   "id": "6133a28a",
   "metadata": {},
   "source": [
    "## 과제 1\n",
    "- list_A와 list_B 각각의 평균, 분산, 중간값을 구하시오\n",
    "- list_A와 list_B의 공분산, 상관계수를 구하시오\n",
    "<br><br>HINT!\n",
    "<br>1. 공분산, 상관계수 구할때 둘을 합쳐서 데이터프레임으로 만들고 해보세요!\n",
    "<br>2. 공분산과 상관계수는 어떤 값이지 데이터프레임 형태가 아닙니다!"
   ]
  },
  {
   "cell_type": "code",
   "execution_count": 1,
   "id": "8c274c72",
   "metadata": {
    "ExecuteTime": {
     "end_time": "2023-03-19T16:03:52.663039Z",
     "start_time": "2023-03-19T16:03:52.649072Z"
    }
   },
   "outputs": [],
   "source": [
    "list_A = [10, 3, 6, 17, 12, 1, 14, 19, 7, 15, 3, 4, 15, 8, 5, 13, 11, 2, 20, 16]\n",
    "list_B = [17, 2, 6, 14, 10, 16, 1, 8, 3, 7, 7, 12, 20, 18, 4, 11, 5, 19, 15, 9]"
   ]
  },
  {
   "cell_type": "code",
   "execution_count": 2,
   "id": "c2c6e9d2",
   "metadata": {},
   "outputs": [
    {
     "name": "stdout",
     "output_type": "stream",
     "text": [
      "List_A mean 10.05\n",
      "List_B mean 10.2\n",
      "List_A var: 35.73421052631579\n",
      "List_B var: 35.22105263157895\n",
      "List A의 중간값: 10.5\n",
      "List B의 중간값: 9.5\n",
      "공분산: 2.147368421052631\n",
      "상관계수 0.06052897235216952\n"
     ]
    }
   ],
   "source": [
    "import numpy as np\n",
    "import pandas as pd\n",
    "\n",
    "list_A = [10, 3, 6, 17, 12, 1, 14, 19, 7, 15, 3, 4, 15, 8, 5, 13, 11, 2, 20, 16]\n",
    "list_B = [17, 2, 6, 14, 10, 16, 1, 8, 3, 7, 7, 12, 20, 18, 4, 11, 5, 19, 15, 9]\n",
    "\n",
    "#mean\n",
    "mean_A = np.mean(list_A)\n",
    "mean_B = np.mean(list_B)\n",
    "print(\"List_A mean\", mean_A)\n",
    "print(\"List_B mean\", mean_B)\n",
    "\n",
    "#var\n",
    "var_A = np.var(list_A, ddof=1)\n",
    "var_B = np.var(list_B, ddof=1)\n",
    "print(\"List_A var:\", var_A)\n",
    "print(\"List_B var:\", var_B)\n",
    "\n",
    "#mid\n",
    "median_A = np.median(list_A)\n",
    "median_B = np.median(list_B)\n",
    "print(\"List A의 중간값:\", median_A)\n",
    "print(\"List B의 중간값:\", median_B)\n",
    "\n",
    "# 공분산, 상관계수\n",
    "df = pd.DataFrame({'A' : list_A, 'B':list_B})\n",
    "covariance = df.cov().iloc[0,1]\n",
    "correlation = df.corr().iloc[0,1]\n",
    "\n",
    "print(\"공분산:\", covariance)\n",
    "print(\"상관계수\", correlation)\n"
   ]
  },
  {
   "cell_type": "markdown",
   "id": "6e13ebc5",
   "metadata": {},
   "source": [
    "## 과제 2\n",
    "- 표본집단의 크기가 커지면 그 표본평균이 모평균에 가까워지는 현상을 무엇이라고 하나요?"
   ]
  },
  {
   "cell_type": "markdown",
   "id": "3d89f130",
   "metadata": {},
   "source": [
    "대수의 법칙(Law of Large Numbers)"
   ]
  },
  {
   "cell_type": "markdown",
   "id": "1607fd28",
   "metadata": {},
   "source": [
    "## 과제 3\n",
    "- 이산확률분포 예시 1개, 연속확률분포 예시 1개를 적어주세요!"
   ]
  },
  {
   "cell_type": "markdown",
   "id": "91a962f8",
   "metadata": {},
   "source": [
    "이산확률분포\n",
    "- 베르누이 분포 : 단 하나의 이항 변수가 가질 수 있는 값이 0 또는 1 두가지 중 하나인 경우에 대해 확률을 정의하는 이산확률분포\n",
    "\n",
    "연속확률 분포\n",
    "- 정규 분포 : 평균과 표준편차라는 두 개의 모수에 의해서 결정, 종 모양의 분포를 가짐"
   ]
  },
  {
   "cell_type": "markdown",
   "id": "cdfbc28d",
   "metadata": {},
   "source": [
    "## 과제 4\n",
    "OX문제\n",
    "- 3-(1)번 : 귀무가설이 참임에도 거짓이라고 판단하는 오류를 제 2종 오류라고 한다 (O / X)\n",
    "- 3-(2)번 : 모집단이 이항 분포일때 그 모집단에서 추출한 표본 10000개의 각 평균들이 이루는 분포는 이항분포이다. (O / X)\n",
    "- 3-(3)번 : 검정 통계량 T가 매우 크면 귀무가설을 기각한다 (O / X)\n",
    "- 3-(4)번 : 1종 오류를 작게끔 설정하면 2종 오류가 커진다 (O / X)\n",
    "- 3-(5)번 : p-value가 유의수준보다 크면 귀무가설을 기각한다  (O / X)"
   ]
  },
  {
   "cell_type": "markdown",
   "id": "b63d6882",
   "metadata": {},
   "source": [
    "3-1 : X _ 2종 오류는, 귀무가설이 거짓이지만 대립가설을 참으로 잘못 판단하는 오류\n",
    "\n",
    "3-2 : X _ 이항분포는 이산확률 분포이고, 확률 변수가 이항 변수일때만 사용. 표본 평균은 이항 변수가 아닌 연속 변수이므로, 표본평균들의 분포는 이항 분포가 아니다\n",
    "\n",
    "3-3 : O _ 검정 통계랑 T가 크다는 뜻은, 귀무가설에서 예상한 것보다 훨씬 더 극단적인 결과가 나왔다는 것을 의미. 따라서 귀무가설을 기각할 수 있는 증거가 됨\n",
    "\n",
    "3-4 : O _ 1종 오류와 2종 오류는 서로 반비례적인 관계가 아니므로, 1종 오류를 작게하면 2종 오류가 커지지 않음.\n",
    "\n",
    "3-5 : O _ p-value는 귀무가설을 검증하기 위한 검정통계량으로 귀무가설 하에 분포를 이용해 계산된 확률. 유의 수준은 귀무가설을 기각하기 위한 기준 값으로, P-value가 유의수준보다 작을 때, 귀무가설을 기각"
   ]
  },
  {
   "cell_type": "markdown",
   "id": "f0d8b9ca",
   "metadata": {},
   "source": [
    "## 과제 5\n",
    "- 아래 코드의 결과대로면 광고 전략은 실패했는지, 실패하지 않았는지 검정하시오"
   ]
  },
  {
   "cell_type": "code",
   "execution_count": 3,
   "id": "ba4bf1ae",
   "metadata": {
    "ExecuteTime": {
     "end_time": "2023-03-19T16:31:49.926579Z",
     "start_time": "2023-03-19T16:31:49.906631Z"
    }
   },
   "outputs": [
    {
     "name": "stdout",
     "output_type": "stream",
     "text": [
      "t_stat : 2.079102000331699, p_value : 0.042863871998196565\n"
     ]
    }
   ],
   "source": [
    "import numpy as np\n",
    "import scipy.stats as stats\n",
    "\n",
    "# 실험 데이터 생성 \n",
    "np.random.seed(42)\n",
    "data = np.random.normal(loc=2, scale=1, size=50)\n",
    "\n",
    "# 귀무가설(H0) : 광고 전략이 실패한 것이 아니다\n",
    "# 대립가설(H1) : 광고 전략이 실패했다\n",
    "\n",
    "# 유의수준 설정\n",
    "alpha = 0.01\n",
    "\n",
    "# 검정 통계량 계산\n",
    "t_stat, p_value = stats.ttest_1samp(data, 1.5)\n",
    "print(f't_stat : {t_stat}, p_value : {p_value}')"
   ]
  },
  {
   "cell_type": "markdown",
   "id": "021846b2",
   "metadata": {},
   "source": [
    "결론 : 광고 전략은 실패\n",
    "\n",
    "이유\n",
    "- 유의수준 alpha를 0.01로 설정했으므로, p-value가 유의수준보다 작으므로 귀무가설이 기각될 수 있다. 즉, 광고 전략이 실패하지 않았다는 귀무가설은 기각되고 대립가설인 광고전략이 실패했다는 가설은 채택됨"
   ]
  }
 ],
 "metadata": {
  "kernelspec": {
   "display_name": "Python 3 (ipykernel)",
   "language": "python",
   "name": "python3"
  },
  "language_info": {
   "codemirror_mode": {
    "name": "ipython",
    "version": 3
   },
   "file_extension": ".py",
   "mimetype": "text/x-python",
   "name": "python",
   "nbconvert_exporter": "python",
   "pygments_lexer": "ipython3",
   "version": "3.9.13"
  },
  "toc": {
   "base_numbering": 1,
   "nav_menu": {},
   "number_sections": true,
   "sideBar": true,
   "skip_h1_title": false,
   "title_cell": "Table of Contents",
   "title_sidebar": "Contents",
   "toc_cell": false,
   "toc_position": {},
   "toc_section_display": true,
   "toc_window_display": false
  }
 },
 "nbformat": 4,
 "nbformat_minor": 5
}
