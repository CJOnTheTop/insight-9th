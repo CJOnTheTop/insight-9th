{
 "cells": [
  {
   "cell_type": "markdown",
   "id": "0a7331d8",
   "metadata": {},
   "source": [
    "과제12. 레드벨벳 멤버의 데이터프레임(df)에서 연속된 여러 줄을 찾는 과제입니다.\n",
    "'다니엘'부터 '혜인'까지의 '학번'과 '역할'만을 확인할 수 있도록 출력해보세요!\n",
    "(인덱싱과 슬라이싱 모두 사용)"
   ]
  },
  {
   "cell_type": "code",
   "execution_count": 64,
   "id": "2afa2416",
   "metadata": {},
   "outputs": [
    {
     "name": "stdout",
     "output_type": "stream",
     "text": [
      "     학번    역할\n",
      "이름           \n",
      "다니엘  16  교육팀장\n",
      "하니   17  교육팀원\n",
      "해린   19  교육팀원\n",
      "혜인   16  교육팀원\n"
     ]
    }
   ],
   "source": [
    "import pandas as pd\n",
    "\n",
    "# 레드벨벳 멤버 정보 데이터프레임 생성\n",
    "lst = [['민지', 15, '커뮤', 'AI', '회장'], ['다니엘', 16, '경영', '심리', '교육팀장'],\n",
    "       ['하니', 17, '경영', '빅사', '교육팀원'], ['해린', 19, '경영', '빅사', '교육팀원'],\n",
    "       ['혜인', 16, '경제', '빅사', '교육팀원']]\n",
    "df = pd.DataFrame(lst, columns=['이름', '학번', '전공', '복수전공', '역할'])\n",
    "df = df.set_index('이름')\n",
    "\n",
    "# '다니엘'부터 '혜인'까지의 '학번'과 '역할'을 슬라이싱하여 출력\n",
    "start_index = df.index.get_loc('다니엘')  # '다니엘'의 인덱스 위치\n",
    "end_index = df.index.get_loc('혜인') + 1  # '혜인' 다음 인덱스 위치\n",
    "print(df[start_index:end_index][['학번', '역할']])\n"
   ]
  },
  {
   "cell_type": "markdown",
   "id": "d4ef4c65",
   "metadata": {},
   "source": [
    "과제 13\n",
    "df_new3에 본인 포함 2명의 정보를 추가하고(행), 새로운 열을 만들어보자!"
   ]
  },
  {
   "cell_type": "code",
   "execution_count": 65,
   "id": "1a8a4ad8",
   "metadata": {},
   "outputs": [
    {
     "name": "stdout",
     "output_type": "stream",
     "text": [
      "    이름      학교        학과          비고\n",
      "0  이찬중   서강대학교  아트앤테크놀로지     데이터 학회원\n",
      "1  이진행  성균관대학교       화학과  석사졸업 후 연구원\n",
      "2  강찬혁  성균관대학교      경제학과     CPA 준비중\n"
     ]
    }
   ],
   "source": [
    "#데이터프레임 생성\n",
    "df = pd.DataFrame({'이름': ['이찬중'], '학교': ['서강대학교'],})\n",
    "\n",
    "#새로운 행 추가\n",
    "df_new1 = pd.DataFrame({'이름': ['이진행'], '학교': ['성균관대학교'],})\n",
    "df_new2 = pd.DataFrame({'이름': ['강찬혁'], '학교': ['성균관대학교'],})\n",
    "df_new3 = pd.concat([df, df_new1, df_new2], ignore_index=True)\n",
    "\n",
    "#새로운 열 추가\n",
    "df_new3['학과'] = ['아트앤테크놀로지', '화학과', '경제학과']\n",
    "df_new3['비고'] = ['데이터 학회원', '석사졸업 후 연구원','CPA 준비중']\n",
    "\n",
    "print(df_new3)"
   ]
  },
  {
   "cell_type": "code",
   "execution_count": null,
   "id": "22d5b65a",
   "metadata": {},
   "outputs": [],
   "source": []
  }
 ],
 "metadata": {
  "kernelspec": {
   "display_name": "Python 3 (ipykernel)",
   "language": "python",
   "name": "python3"
  },
  "language_info": {
   "codemirror_mode": {
    "name": "ipython",
    "version": 3
   },
   "file_extension": ".py",
   "mimetype": "text/x-python",
   "name": "python",
   "nbconvert_exporter": "python",
   "pygments_lexer": "ipython3",
   "version": "3.9.13"
  }
 },
 "nbformat": 4,
 "nbformat_minor": 5
}
