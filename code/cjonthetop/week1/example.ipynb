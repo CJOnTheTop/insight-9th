{
 "cells": [
  {
   "cell_type": "markdown",
   "id": "162a76d3",
   "metadata": {},
   "source": [
    "과제1. 어떤 회원이 생년월일 입력란에 890724를 입력하였을 때, 해당 문자를 연/월/일로 각각 나누어 출력하기"
   ]
  },
  {
   "cell_type": "code",
   "execution_count": 1,
   "id": "e7bf000e",
   "metadata": {},
   "outputs": [
    {
     "name": "stdout",
     "output_type": "stream",
     "text": [
      "89\n",
      "07\n",
      "24\n"
     ]
    }
   ],
   "source": [
    "birth = \"890724\"\n",
    "\n",
    "year = birth[0:2]\n",
    "month = birth[2:4]\n",
    "day = birth[4:6]\n",
    "\n",
    "print(year)\n",
    "print(month)\n",
    "print(day)"
   ]
  },
  {
   "cell_type": "markdown",
   "id": "9ce7a18b",
   "metadata": {},
   "source": [
    "과제2. 어떤 고객이 휴대전화번호를 010-1234-5678으로 입력하였을 때, 해당 문자를 01012345678으로 출력하기"
   ]
  },
  {
   "cell_type": "code",
   "execution_count": 2,
   "id": "c247fa26",
   "metadata": {
    "scrolled": false
   },
   "outputs": [
    {
     "data": {
      "text/plain": [
       "'01012345678'"
      ]
     },
     "execution_count": 2,
     "metadata": {},
     "output_type": "execute_result"
    }
   ],
   "source": [
    "phonenum = \"010-1234-5678\"\n",
    "phonenum.replace('-','')"
   ]
  },
  {
   "cell_type": "markdown",
   "id": "90ecc3f5",
   "metadata": {},
   "source": [
    "과제3. 간단한 영한 사전 만들기 -> 1부터 10까지 영어를 입력하면 한글로 출력되는 프로그램\n",
    "(input 함수를 이용해서 값을 입력 받을 수 있음, Key-Value Pair를 이용해 프로그램 제작)"
   ]
  },
  {
   "cell_type": "code",
   "execution_count": 3,
   "id": "6d636b20",
   "metadata": {},
   "outputs": [
    {
     "name": "stdout",
     "output_type": "stream",
     "text": [
      "1부터 10까지의 영어 단어를 입력하세요: seven\n",
      "seven는 일곱입니다.\n"
     ]
    }
   ],
   "source": [
    "dictionary = {\n",
    "    'one': '하나',\n",
    "    'two': '둘',\n",
    "    'three': '셋',\n",
    "    'four': '넷',\n",
    "    'five': '다섯',\n",
    "    'six': '여섯',\n",
    "    'seven': '일곱',\n",
    "    'eight': '여덟',\n",
    "    'nine': '아홉',\n",
    "    'ten': '열'\n",
    "}\n",
    "\n",
    "word = input('1부터 10까지의 영어 단어를 입력하세요: ')\n",
    "\n",
    "if word in dictionary:\n",
    "    print(f'{word}는 {dictionary[word]}입니다.')\n",
    "else:\n",
    "    print('잘못된 입력입니다.')\n"
   ]
  },
  {
   "cell_type": "markdown",
   "id": "8c0bad8a",
   "metadata": {},
   "source": [
    "과제4. 값을 입력 받아 원의 넓이를 구하는 프로그램 만들기 \n",
    "\n",
    " * input 함수를 이용해서 값을 입력 받을 수 있음, 입력 받은 변수를 활용해 계산식 세우기\n",
    " * 원 넓이 구하는 공식 : y = π x r² (π= 3.14 로 계산))"
   ]
  },
  {
   "cell_type": "code",
   "execution_count": 4,
   "id": "698e01a5",
   "metadata": {},
   "outputs": [
    {
     "name": "stdout",
     "output_type": "stream",
     "text": [
      "반지름 입력 : 22.5\n",
      "1589.625\n"
     ]
    }
   ],
   "source": [
    "radius = float(input(\"반지름 입력 : \"))\n",
    "area = 3.14 * radius ** 2\n",
    "\n",
    "print(area)\n"
   ]
  },
  {
   "cell_type": "markdown",
   "id": "ab965d28",
   "metadata": {},
   "source": [
    "과제5. 금액을 입력했을 때, 상품 가격에 따른 잔돈을 반환하는 자판기 프로그램 만들기\n",
    "    - 금액과 상품가격은 input함수로 선언\n",
    "    - 잔돈은 500,100,50,10원 단위로 반환\n",
    "    - 잔돈은 가장 큰 금액부터 반환 예) 잔돈 760원 : 500원1개, 100원2개, 50원 1개, 10원 1개"
   ]
  },
  {
   "cell_type": "code",
   "execution_count": 5,
   "id": "4f9d022d",
   "metadata": {},
   "outputs": [
    {
     "name": "stdout",
     "output_type": "stream",
     "text": [
      "투입한 금액을 입력하세요: 5000\n",
      "상품 가격을 입력하세요: 4250\n",
      "잔돈: 750 원\n",
      "500원 동전 1개\n",
      "100원 동전 2개\n",
      "50원 동전 1개\n"
     ]
    }
   ],
   "source": [
    "amount = int(input(\"투입한 금액을 입력하세요: \"))\n",
    "price = int(input(\"상품 가격을 입력하세요: \"))\n",
    "\n",
    "change = amount - price\n",
    "\n",
    "print(\"잔돈:\", change, \"원\")\n",
    "\n",
    "coin_types = [500, 100, 50, 10]\n",
    "coin_counts = []\n",
    "\n",
    "for coin in coin_types:\n",
    "    count = change // coin \n",
    "    coin_counts.append(count)\n",
    "    change -= coin * count \n",
    "    \n",
    "for i in range(len(coin_types)):\n",
    "    coin = coin_types[i]\n",
    "    count = coin_counts[i]\n",
    "    if count > 0:\n",
    "        print(\"{}원 동전 {}개\".format(coin, count))\n"
   ]
  },
  {
   "cell_type": "markdown",
   "id": "718daa88",
   "metadata": {},
   "source": [
    "과제6. 값을 입력 받아 홀수인지 짝수인지 판별하는 프로그램 만들기"
   ]
  },
  {
   "cell_type": "code",
   "execution_count": 6,
   "id": "ef6c8504",
   "metadata": {},
   "outputs": [
    {
     "name": "stdout",
     "output_type": "stream",
     "text": [
      "숫자 입력5\n",
      "홀수\n"
     ]
    }
   ],
   "source": [
    "num = int(input(\"숫자 입력\"))\n",
    "\n",
    "var = num % 2\n",
    "\n",
    "if(var == 1):\n",
    "    print(\"홀수\")\n",
    "else:\n",
    "    print(\"짝수\")"
   ]
  },
  {
   "cell_type": "markdown",
   "id": "648f0784",
   "metadata": {},
   "source": [
    "과제7. for 반복문을 중첩하여, 아래와 같이 * 기호를 피라미드로 출력하는 프로그램 제작"
   ]
  },
  {
   "cell_type": "code",
   "execution_count": 64,
   "id": "93ee61cb",
   "metadata": {},
   "outputs": [
    {
     "name": "stdout",
     "output_type": "stream",
     "text": [
      "*\n",
      "**\n",
      "***\n",
      "****\n",
      "*****\n"
     ]
    }
   ],
   "source": [
    "for i in range(1,6):\n",
    "    print(\"*\"*i)"
   ]
  },
  {
   "cell_type": "markdown",
   "id": "c57efab4",
   "metadata": {},
   "source": [
    "과제8. For문과 If문을 이용하여, 아래의 리스트의 최댓값을 구하는 프로그램 제작\n",
    "\n",
    "    list = [1,24,3,44,1000,2,0,74] / 결과 : 1000"
   ]
  },
  {
   "cell_type": "code",
   "execution_count": 8,
   "id": "8803cfc6",
   "metadata": {},
   "outputs": [
    {
     "name": "stdout",
     "output_type": "stream",
     "text": [
      "최댓값은 1000 입니다.\n"
     ]
    }
   ],
   "source": [
    "lst = [1, 24, 3, 44, 1000, 2, 0, 74]\n",
    "\n",
    "max_val = lst[0]\n",
    "\n",
    "for val in lst:\n",
    "    if val > max_val:\n",
    "        max_val = val\n",
    "        \n",
    "print(\"최댓값은\", max_val, \"입니다.\")\n"
   ]
  },
  {
   "cell_type": "markdown",
   "id": "48614cb6",
   "metadata": {},
   "source": [
    "과제9. 입력하는 모든 수의 평균을 계산하는 함수 만들기"
   ]
  },
  {
   "cell_type": "code",
   "execution_count": 10,
   "id": "f9407d71",
   "metadata": {},
   "outputs": [
    {
     "name": "stdout",
     "output_type": "stream",
     "text": [
      "숫자를 입력하세요 (종료를 원하시면 'end' 입력): 3\n",
      "숫자를 입력하세요 (종료를 원하시면 'end' 입력): 5\n",
      "숫자를 입력하세요 (종료를 원하시면 'end' 입력): 12\n",
      "숫자를 입력하세요 (종료를 원하시면 'end' 입력): 24\n",
      "숫자를 입력하세요 (종료를 원하시면 'end' 입력): 19\n",
      "숫자를 입력하세요 (종료를 원하시면 'end' 입력): end\n",
      "입력된 수의 평균은 12.6 입니다.\n"
     ]
    }
   ],
   "source": [
    "def calculate_average():\n",
    "    count = 0\n",
    "    total = 0\n",
    "    \n",
    "    while True:\n",
    "        num = input(\"숫자를 입력하세요 (종료를 원하시면 'end' 입력): \")\n",
    "        if num == \"end\":\n",
    "            break\n",
    "        total += float(num)\n",
    "        count += 1\n",
    "        \n",
    "    if count == 0:\n",
    "        print(\"입력된 수가 없습니다.\")\n",
    "    else:\n",
    "        average = total / count\n",
    "        print(\"입력된 수의 평균은\", average, \"입니다.\")\n",
    "\n",
    "calculate_average()"
   ]
  },
  {
   "cell_type": "markdown",
   "id": "a3c1f27c",
   "metadata": {},
   "source": [
    "과제 10. (5,2)의 random한 Matrix를 생성하고,\n",
    "Matrix의 전체합, 전체 평균, 각 열의 합, 각행의 합, 각 열의 평균, 각 행의 평균을 계산하기. "
   ]
  },
  {
   "cell_type": "code",
   "execution_count": 11,
   "id": "d1fdfe51",
   "metadata": {},
   "outputs": [
    {
     "name": "stdout",
     "output_type": "stream",
     "text": [
      "[[0.27970029 0.33231388]\n",
      " [0.78061724 0.47048375]\n",
      " [0.25090018 0.42248397]\n",
      " [0.50762872 0.29510092]\n",
      " [0.26098939 0.44786362]]\n",
      "전체 합 : 4.04808196737927\n",
      "전체 평균 : 0.404808196737927\n",
      "각 열의 합 :  [2.07983582 1.96824615]\n",
      "각 행의 합 :  [0.61201417 1.25110099 0.67338416 0.80272964 0.70885302]\n",
      "각 열의 평균 :  [0.41596716 0.39364923]\n",
      "각 행의 평균 :  [0.30600708 0.62555049 0.33669208 0.40136482 0.35442651]\n"
     ]
    }
   ],
   "source": [
    "import numpy as np\n",
    "import pandas as pd\n",
    "\n",
    "arr_1 = np.random.rand(5,2)\n",
    "print(arr_1)\n",
    "\n",
    "#전체합 계산\n",
    "total_sum = np.sum(arr_1)\n",
    "print(\"전체 합 :\", total_sum)\n",
    "\n",
    "#전체 평균 계산\n",
    "total_mean = np.mean(arr_1)\n",
    "print(\"전체 평균 :\", total_mean)\n",
    "\n",
    "#각 열의 합 계산\n",
    "col_sum = np.sum(arr_1, axis=0)\n",
    "print(\"각 열의 합 : \", col_sum)\n",
    "\n",
    "#각 행의 합 계산\n",
    "row_sum = np.sum(arr_1, axis=1)\n",
    "print(\"각 행의 합 : \", row_sum)\n",
    "\n",
    "#각 열의 평균 계산\n",
    "col_mean = np.mean(arr_1, axis=0)\n",
    "print(\"각 열의 평균 : \", col_mean)\n",
    "\n",
    "#각 행의 평균 계산\n",
    "row_mean = np.mean(arr_1, axis = 1)\n",
    "print(\"각 행의 평균 : \", row_mean)"
   ]
  },
  {
   "cell_type": "markdown",
   "id": "7f20724f",
   "metadata": {},
   "source": [
    "과제 11. Series를 이용하여, 아래와 같은 성적표를 만들기\n",
    " - 1) 각 과목의 합격/불합격 여부 출력하기 (50점 이상 , 합격)\n",
    " - 2) 과목의 전체평균을 계산하여, 70점 기준으로 합격 불합격 여부 판별하기"
   ]
  },
  {
   "cell_type": "code",
   "execution_count": 12,
   "id": "6cca1627",
   "metadata": {},
   "outputs": [
    {
     "name": "stdout",
     "output_type": "stream",
     "text": [
      "합격\n",
      "국어    70\n",
      "수학    80\n",
      "과학    90\n",
      "dtype: int64\n",
      "불합격\n",
      "영어    30\n",
      "dtype: int64\n"
     ]
    }
   ],
   "source": [
    "import pandas as pd\n",
    "\n",
    "# 성적 데이터\n",
    "grade = {'국어':70, '영어':30, '수학':80, '과학':90}\n",
    "\n",
    "# Series 생성\n",
    "s = pd.Series(grade)\n",
    "\n",
    "# 합격/불합격 여부 결정\n",
    "passing = s >= 50\n",
    "passing = passing.replace({True: '합격', False: '불합격'})\n",
    "\n",
    "# 합격한 과목과 불합격한 과목을 나눠서 출력\n",
    "passing_subjects = s[passing == '합격']\n",
    "failing_subjects = s[passing == '불합격']\n",
    "\n",
    "# 결과 출력\n",
    "print(\"합격\")\n",
    "print(passing_subjects)\n",
    "print(\"불합격\")\n",
    "print(failing_subjects)\n"
   ]
  }
 ],
 "metadata": {
  "kernelspec": {
   "display_name": "Python 3 (ipykernel)",
   "language": "python",
   "name": "python3"
  },
  "language_info": {
   "codemirror_mode": {
    "name": "ipython",
    "version": 3
   },
   "file_extension": ".py",
   "mimetype": "text/x-python",
   "name": "python",
   "nbconvert_exporter": "python",
   "pygments_lexer": "ipython3",
   "version": "3.9.13"
  }
 },
 "nbformat": 4,
 "nbformat_minor": 5
}
